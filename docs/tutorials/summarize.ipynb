{
 "cells": [
  {
   "cell_type": "markdown",
   "id": "4ec838ca-2391-4aac-b71a-d6800b4d9b05",
   "metadata": {},
   "source": [
    "# Résumer un document"
   ]
  },
  {
   "cell_type": "markdown",
   "id": "19d15dde-f884-4d38-8f85-f18e5c6b7fb2",
   "metadata": {},
   "source": [
    "Commencez par télécharger le document que vous souhaitez résumer."
   ]
  },
  {
   "cell_type": "code",
   "execution_count": 1,
   "id": "e80daa99-3416-4b81-a8aa-4fb7427bbe6c",
   "metadata": {},
   "outputs": [
    {
     "data": {
      "text/plain": [
       "'my_document.pdf'"
      ]
     },
     "execution_count": 1,
     "metadata": {},
     "output_type": "execute_result"
    }
   ],
   "source": [
    "# Download a file\n",
    "import os\n",
    "\n",
    "import wget\n",
    "\n",
    "file_path = \"my_document.pdf\"\n",
    "if os.path.exists(file_path):\n",
    "    os.remove(file_path)\n",
    "doc_url = \"https://www.legifrance.gouv.fr/download/file/rxcTl0H4YnnzLkMLiP4x15qORfLSKk_h8QsSb2xnJ8Y=/JOE_TEXTE\"\n",
    "\n",
    "wget.download(doc_url, out=file_path)"
   ]
  },
  {
   "cell_type": "markdown",
   "id": "c9e8bcec-a669-4719-b657-7bbb87c833c6",
   "metadata": {},
   "source": [
    "Puis instancier la connexion à l'API Albert."
   ]
  },
  {
   "cell_type": "code",
   "execution_count": 2,
   "id": "9e17262f-ab1a-439e-8342-10334e377d76",
   "metadata": {},
   "outputs": [],
   "source": [
    "# OpenAI client configuration\n",
    "import requests\n",
    "from openai import OpenAI\n",
    "\n",
    "base_url = \"https://albert.api.etalab.gouv.fr/v1\"\n",
    "api_key = os.getenv(\"API_KEY\")\n",
    "\n",
    "client = OpenAI(base_url=base_url, api_key=api_key)\n",
    "\n",
    "session = requests.session()\n",
    "session.headers = {\"Authorization\": f\"Bearer {api_key}\"}"
   ]
  },
  {
   "cell_type": "markdown",
   "id": "11e7ec99-edf5-4669-9e6f-5d98d9008b09",
   "metadata": {},
   "source": [
    "Enfin pour vous importer le document dans une collection de notre base vectorielle à l'aide du endpoint POST `/v1/files`.\n",
    "\n",
    "Vous devez spécifier le modèle d'embeddings qui sera utilisé pour vectoriser votre document. Vous pouvez trouver la liste des modèles avec le endpoint `/v1/models`. Les modèles d'embeddings sont indiqués avec le type _feature-extraction_.\n",
    "\n",
    "Le endpoint POST `/v1/files` doit retourner un status _success_. "
   ]
  },
  {
   "cell_type": "code",
   "execution_count": 3,
   "id": "c49cc38a",
   "metadata": {},
   "outputs": [
    {
     "data": {
      "text/plain": [
       "204"
      ]
     },
     "execution_count": 3,
     "metadata": {},
     "output_type": "execute_result"
    }
   ],
   "source": [
    "# Remove previous files\n",
    "\n",
    "collection = \"leo\"\n",
    "response = session.delete(f\"{base_url}/files/{collection}\")\n",
    "response.status_code"
   ]
  },
  {
   "cell_type": "code",
   "execution_count": 4,
   "id": "6852fc7a-0b09-451b-bbc2-939fa96a4d28",
   "metadata": {},
   "outputs": [
    {
     "data": {
      "text/plain": [
       "{'object': 'list',\n",
       " 'data': [{'object': 'upload',\n",
       "   'id': '0d18a01a-d921-462c-a1c6-ce7c650ebf15',\n",
       "   'filename': 'my_document.pdf',\n",
       "   'status': 'success'}]}"
      ]
     },
     "execution_count": 4,
     "metadata": {},
     "output_type": "execute_result"
    }
   ],
   "source": [
    "# Upload a file\n",
    "collection = \"leo\"\n",
    "model = \"BAAI/bge-m3\"\n",
    "params = {\"collection\": collection, \"model\": model} \n",
    "\n",
    "files = {'files': (os.path.basename(file_path), open(file_path, 'rb'), \"application/pdf\")}\n",
    "response = session.post(f\"{base_url}/files\", params=params , files=files)\n",
    "\n",
    "response.json()"
   ]
  },
  {
   "cell_type": "markdown",
   "id": "b5d8bb34-c325-483a-a548-f7c15684d2a5",
   "metadata": {},
   "source": [
    "Vous pouvez observer les fichiers que vous avez importer dans une collection à l'aide du endpoint GET `/v1/files`."
   ]
  },
  {
   "cell_type": "code",
   "execution_count": 5,
   "id": "bd6d6140-5c91-4c3e-9350-b6c8550ab145",
   "metadata": {},
   "outputs": [
    {
     "data": {
      "text/plain": [
       "{'object': 'list',\n",
       " 'data': [{'object': 'file',\n",
       "   'id': '0d18a01a-d921-462c-a1c6-ce7c650ebf15',\n",
       "   'bytes': 133606,\n",
       "   'filename': 'my_document.pdf',\n",
       "   'chunk_ids': ['0162a0fc-ddc2-4dd0-8835-89f9fb218e0a',\n",
       "    '0b9305f3-dc49-4011-b789-a03c6b13e49a',\n",
       "    '1c0b8d3b-f0c3-4c51-95b4-baee4cf40c18',\n",
       "    '440fcb9f-73de-4135-b47b-dcd1bdf7f9e4',\n",
       "    '56fd9c7d-29bd-4c6b-9d4c-40fe123b7e20',\n",
       "    '586852d9-3573-4756-b242-ab52c4769288',\n",
       "    '5a75b874-46b8-4c79-941b-8f1b40dcc88e',\n",
       "    '8df31ab5-fba8-485f-9721-9ad487e6b265',\n",
       "    '9cbe7e5f-aefd-4dfe-b6bc-58e774ff7d1a',\n",
       "    '9e59e8dd-6e31-41a7-9980-94436307e1ee',\n",
       "    'a1d3daad-feec-4ffd-a611-ab44db18696d',\n",
       "    'cd9b4a1a-974c-45ae-a908-8132e735937e',\n",
       "    'e335df17-510c-4757-97b1-21be3fd1f209',\n",
       "    'e777305d-a5bf-4488-94bf-01b9c1e8126c',\n",
       "    'f30fd131-cd56-4b77-ad97-f01cfb7ebd39',\n",
       "    'fc1fc8cf-02b4-4178-ae1c-5486bff75212'],\n",
       "   'created_at': 1722840171}]}"
      ]
     },
     "execution_count": 5,
     "metadata": {},
     "output_type": "execute_result"
    }
   ],
   "source": [
    "# Retrieve the file ID for RAG\n",
    "response = session.get(f\"{base_url}/files/{collection}\")\n",
    "\n",
    "response.json()"
   ]
  },
  {
   "cell_type": "markdown",
   "id": "d0fed942-cd46-4623-9b0f-9946c2fb157f",
   "metadata": {},
   "source": [
    "Chaque fichier importé est associé un _file_id_, stocker le, il sera nécessaire pour la suite."
   ]
  },
  {
   "cell_type": "code",
   "execution_count": 6,
   "id": "f0957f09-948e-4e42-9c7c-7283d72d4d89",
   "metadata": {},
   "outputs": [],
   "source": [
    "file_id = response.json()[\"data\"][0][\"id\"]"
   ]
  },
  {
   "cell_type": "markdown",
   "id": "98b86848-f250-457c-8a04-39b034147c08",
   "metadata": {},
   "source": [
    "Pour résumer un document vous devez utiliser le _tool_ qui permet de fournir au modèle un ou plusieurs document préalablement importés : _UseFile_. Vous trouverez la liste des _tools_ ainsi que leur paramètres avec le endpoint GET `/v1/tools`."
   ]
  },
  {
   "cell_type": "code",
   "execution_count": 7,
   "id": "2e5cd813-5c19-4219-a404-6ed154991dfc",
   "metadata": {},
   "outputs": [
    {
     "name": "stdout",
     "output_type": "stream",
     "text": [
      "Fill your prompt with file contents. Your prompt must contain \"{files}\" placeholder.\n",
      "\n",
      "    Args:\n",
      "        collection (str): Collection name.\n",
      "        file_ids (List[str]): List of file ids in the selected collection.\n"
     ]
    }
   ],
   "source": [
    "# Display tools parameters\n",
    "response = session.get(f\"{base_url}/tools\")\n",
    "for tool in response.json()[\"data\"]:\n",
    "    if tool[\"id\"] == \"UseFiles\":\n",
    "        print(tool[\"description\"])"
   ]
  },
  {
   "cell_type": "markdown",
   "id": "58b308e4-4c35-41f6-9399-04254623c4c8",
   "metadata": {},
   "source": [
    "Nous pouvons maintenant interroger le modèle avec le endpoint POST `/v1/chat/completions`"
   ]
  },
  {
   "cell_type": "code",
   "execution_count": 8,
   "id": "f374c1ad-b5ec-4870-a11a-953c7d219f94",
   "metadata": {},
   "outputs": [
    {
     "name": "stdout",
     "output_type": "stream",
     "text": [
      "Le document est une décision du 18 juin 2023 portant délégation de signature pour la direction interministérielle du numérique. Voici les principaux points :\n",
      "\n",
      "* La décision est publiée au Journal officiel de la République française.\n",
      "* La direction interministérielle du numérique est dirigée par Mme Stéphanie Schaer.\n",
      "* La décision délègue la signature de certains actes à des agents suivants :\n",
      "\t+ M. Perica Sucevic et Mme Floriane Beaudron pour les demandes d'achat et les attestations électroniques.\n",
      "\t+ Mme Elsa Le Duigou, M. Valentin Brel, Mme Margot Sanchez, M. Paul Burgun et Mme Emma Ghariani pour signer les actes relevant des attributions de leurs pôles.\n",
      "\t+ Mme Géraldine Taurand pour signer les actes de gestion et procéder aux validations électroniques.\n",
      "\t+ Les agents suivants pour signer les services faits relevant des attributions de leurs départements :\n",
      "\t\t- M. Gilles Corbi, M. Yann Brûlé, M. Ulrich Tan, Mme Marie-Christie Ritz, Mme Fadila Leturcq, Mme Marielle Variette, M. Aël Lebreton, Mme Sandrine Argillet, Mme Solange Nguefang, Mme Yamina Mebarkaoui, Mme Virginie Rozière, Mme Marine Boudeau, M. Mohsen Souissi, M. Louis di Benedetto, M. Philippe Levillain, M. Ishan Bhojwani, Mme Marielle Chrisment, M. Guy Duplaquet et M. Florian Delezenne.\n",
      "* La décision abroge la décision du 17 janvier 2023 portant délégation de signature pour la direction interministérielle du numérique.\n"
     ]
    }
   ],
   "source": [
    "# Chat completions\n",
    "message = \"Résume le document suivant : {files}\"\n",
    "user = \"leo\" # for chat history\n",
    "data = {\n",
    "    \"model\": \"AgentPublic/llama3-instruct-8b\",\n",
    "    \"user\": user,\n",
    "    \"messages\": [{\"role\": \"user\", \"content\": message}],\n",
    "    \"stream\": False,\n",
    "    \"n\": 1,\n",
    "    \"tools\": [\n",
    "        {\n",
    "            \"function\": {\n",
    "                \"name\": \"UseFiles\",\n",
    "                \"parameters\": {\n",
    "                    \"collection\": collection,\n",
    "                    \"file_ids\": [file_id]\n",
    "                },\n",
    "            },\n",
    "            \"type\": \"function\",\n",
    "        }\n",
    "    ],\n",
    "}\n",
    "\n",
    "response = client.chat.completions.create(**data)\n",
    "print(response.choices[0].message.content)"
   ]
  },
  {
   "cell_type": "markdown",
   "id": "37d58993",
   "metadata": {},
   "source": [
    "Vous pouvez récupérer les metadata des tools utilisées. Ces metadata vous donnera, entre autre, le prompt envoyé au modèle."
   ]
  },
  {
   "cell_type": "code",
   "execution_count": 11,
   "id": "9cfa73a7",
   "metadata": {},
   "outputs": [
    {
     "name": "stdout",
     "output_type": "stream",
     "text": [
      "Résume le document suivant : Art.  8.  –  La présente décision sera publiée au Journal officiel de la République française. Fait le 18 juin 2023. S. SCHAER\n",
      "\n",
      "informatique  CHORUS  formulaires  des  dépenses  et  recettes  de  la  direction  interministérielle  du  numérique résultant d’actes validés selon les modalités fixées aux articles 1er  à 8 de la présente décision.\n",
      "\n",
      "Art.  6.  –  Délégation est donnée à l’effet de valider, de façon électronique dans l’outil informatique « Chorus Formulaires »,  dans  les  limites  de  leurs  attributions,  les  demandes  d’achat  et  les  attestations  du  service  fait  aux agents ci-après désignés :\n",
      "\n",
      "–  M. Perica Sucevic, agent contractuel, préfigurateur de la mission « Droit et international » ; –  Mme Floriane Beaudron, agente contractuelle, cheffe de la mission « Communication ». Art.  3.  –  Délégation est donnée à l’effet de signer au nom du ministre de la transformation et de la fonction publiques ainsi qu’au nom de la Première ministre, tous actes relevant des attributions de leurs pôles, et notamment\n",
      "\n",
      "–  Mme Elsa Le Duigou, agent contractuel ; –  M. Valentin Brel, agent contractuel ; –  Mme Margot Sanchez, agent contractuel ; –  M. Paul Burgun, agent contractuel ; –  Mme Emma Ghariani, agent contractuel. Art.  5.  –  Délégation est donnée à Mme Géraldine Taurand, attachée d’administration hors classe, cheffe de la mission « Budget et achats », pour signer tous actes de gestion et procéder aux validations électronique dans l’outil\n",
      "\n",
      "Vu le décret du 26 septembre 2022 portant cessation de fonctions et nomination de la directrice interministérielle du numérique - Mme SCHAER (Stéphanie) ; Vu le décret no  2019-1088 du 25 octobre 2019 relatif au système d’information et de communication de l’Etat et à la direction interministérielle du numérique modifié par le décret no  2023-304 du 22 avril 2023, Décide :\n",
      "\n",
      "Art.  4.  –  Délégation est donnée à l’effet de signer au nom du ministre de la transformation et de la fonction publiques ainsi qu’au nom de la Première ministre, les services faits relevant des leurs attributions, d’un montant strictement  inférieur  à  208  000  €  HT,  aux  responsables  de  portefeuille,  au  sein  du  département  « Incubateur  de services numériques » :\n",
      "\n",
      "21  juin 2023 JOURNAL  OFFICIEL  DE  LA  RÉPUBLIQUE  FRANÇAISE Texte 5 sur 95 Décrets, arrêtés, circulaires TEXTES  GÉNÉRAUX PREMIÈRE  MINISTRE Décision du 18 juin 2023 portant délégation de signature (direction interministérielle du numérique) NOR : PRMG2311809S La directrice interministérielle du numérique, Vu  le  décret  no  2005-850  du  27  juillet  2005  modifié  relatif  aux  délégations  de  signature  des  membres  du Gouvernement, notamment en son article 3 ;\n",
      "\n",
      "–  M. Gilles Corbi, agent contractuel, chef du pôle Production du département « ISO » ; –  M. Yann Brûlé, grade, chef du pôle « SI RIE » du département « ISO » ; –  M. Ulrich Tan, chef du pôle Datamin du département « Etalab » ; –  Mme Marie-Christie Ritz, cheffe du pôle « RH et attractivité » ; –  Mme Fadila Leturcq, cheffe du pôle « Campus du numérique ». 21  juin 2023 JOURNAL  OFFICIEL  DE  LA  RÉPUBLIQUE  FRANÇAISE Texte 5 sur 95\n",
      "\n",
      "–  Mme Marielle Variette, attachée d’administration ; –  M. Aël Lebreton, attaché principal d’administration ; –  Mme Sandrine Argillet, agent contractuel ; –  Mme Solange Nguefang, secrétaire administrative de classe exceptionnelle ; –  Mme Yamina Mebarkaoui, greffière des services judiciaires. Art.  7.  –  La  décision  du  17  janvier  2023  portant  délégation  de  signature  (direction  interministérielle  du numérique) est abrogée.\n",
      "\n",
      "–  Mme Virginie Rozière, ingénieure en chef de l’armement, cheffe du pole « Expertise, contrôle et maitrise des risques » du département « ACE » ; –  Mme Marine Boudeau, agente contractuelle, préfiguratrice du pôle « Brigade d’intervention numérique », du département « ACE » ; –  M. Mohsen Souissi, agent contractuel, préfigurateur du pôle « Référentiels, capitalisation et observatoires » du département « ACE » ;\n",
      "\n",
      "Art.  1er.  –  Délégation est donnée à l’effet de signer au nom du ministre de la transformation et de la fonction publiques  ainsi  qu’au  nom  de  la  Première  ministre,  tous  actes  relevant  des  attributions  de  leurs  département,  et notamment  les  conventions,  commandes  et  certifications  de  services  faits  d’un  montant  strictement  inférieur à 208 000 € hors taxes, aux agents suivants :\n",
      "\n",
      "–  M.  Louis  di  Benedetto,  inspecteur  en  chef  de  la  santé  publique  vétérinaire,  chef  du  pôle  « Pilotage  de  la qualité et des partenariats » du département « ISO » ; –  M.  Philippe  Levillain,  agent  contractuel,  chef  du  pôle  « Réseau  interministériel  de  l’Etat  /  SOI »  du département « ISO » ;\n",
      "\n",
      "Art.  2.  –  Délégation est donnée à l’effet de signer au nom du ministre de la transformation et de la fonction publiques  ainsi  qu’au  nom  de  la  Première  ministre,  tous  actes  relevant  des  attributions  de  leurs  missions,  et notamment  les  conventions,  commandes  et  certifications  de  services  faits  d’un  montant  strictement  inférieur à 40 000 € hors taxes, aux agents suivants :\n",
      "\n",
      "–  M. Ishan Bhojwani, agent contractuel, chef du département « Incubateur de services numériques » (ISN) ; –  Mme Marielle Chrisment, lieutenante-colonelle de gendarmerie, cheffe du département « Etalab » ; –  M.  Guy Duplaquet,  ingénieur général  des mines,  chef du  département « Infrastructures et services  opérés » (ISO) ; –  M.  Florian  Delezenne,  agent  contractuel,  chef  du  département  « Opérateur  de  produits  interministériels » (OPI).\n",
      "\n",
      "les conventions, commandes et certifications de services faits d’un montant strictement inférieur à 40 000 € hors taxes, aux agents suivants :\n"
     ]
    }
   ],
   "source": [
    "print(response.metadata[0][\"UseFiles\"][\"prompt\"])"
   ]
  }
 ],
 "metadata": {
  "kernelspec": {
   "display_name": "Python 3 (ipykernel)",
   "language": "python",
   "name": "python3"
  },
  "language_info": {
   "codemirror_mode": {
    "name": "ipython",
    "version": 3
   },
   "file_extension": ".py",
   "mimetype": "text/x-python",
   "name": "python",
   "nbconvert_exporter": "python",
   "pygments_lexer": "ipython3",
   "version": "3.12.3"
  }
 },
 "nbformat": 4,
 "nbformat_minor": 5
}
