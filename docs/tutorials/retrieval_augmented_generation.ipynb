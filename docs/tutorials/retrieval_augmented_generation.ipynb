{
 "cells": [
  {
   "cell_type": "markdown",
   "id": "f6f333a0-7450-4136-b8cc-416e07426279",
   "metadata": {
    "id": "f6f333a0-7450-4136-b8cc-416e07426279"
   },
   "source": [
    "# Request documents (RAG)"
   ]
  },
  {
   "cell_type": "code",
   "execution_count": 8,
   "id": "5f9ca9bf",
   "metadata": {
    "colab": {
     "base_uri": "https://localhost:8080/"
    },
    "id": "5f9ca9bf",
    "outputId": "4112b46b-4271-4696-cf31-393e9e7ff8b3"
   },
   "outputs": [],
   "source": [
    "! pip install -qU wget openai"
   ]
  },
  {
   "cell_type": "code",
   "execution_count": 9,
   "id": "af281185",
   "metadata": {},
   "outputs": [],
   "source": [
    "import os\n",
    "import requests\n",
    "from openai import OpenAI\n",
    "import wget"
   ]
  },
  {
   "cell_type": "code",
   "execution_count": 17,
   "id": "97a5a057",
   "metadata": {},
   "outputs": [],
   "source": [
    "# OpenAI client configuration\n",
    "base_url = \"https://albert.api.etalab.gouv.fr/v1\"\n",
    "api_key = os.getenv(\"ALBERT_API_KEY\")\n",
    "\n",
    "\n",
    "client = OpenAI(base_url=base_url, api_key=api_key)\n",
    "\n",
    "session = requests.session()\n",
    "session.headers = {\"Authorization\": f\"Bearer {api_key}\"}"
   ]
  },
  {
   "cell_type": "markdown",
   "id": "daadba81-54dd-48ba-b6f0-fc8307e822c3",
   "metadata": {
    "id": "daadba81-54dd-48ba-b6f0-fc8307e822c3"
   },
   "source": [
    "Let's start by uploading the document we want to query. This document can be a PDF, an HTML file, or a JSON file."
   ]
  },
  {
   "cell_type": "code",
   "execution_count": 18,
   "id": "e80daa99-3416-4b81-a8aa-4fb7427bbe6c",
   "metadata": {
    "colab": {
     "base_uri": "https://localhost:8080/",
     "height": 35
    },
    "id": "e80daa99-3416-4b81-a8aa-4fb7427bbe6c",
    "outputId": "abf16516-2ef9-40c3-dcad-74b6f9aa42e6"
   },
   "outputs": [
    {
     "name": "stdout",
     "output_type": "stream",
     "text": [
      "100% [..........................................................................] 1114051 / 1114051"
     ]
    }
   ],
   "source": [
    "# Download a file\n",
    "file_path = \"/Users/acor/marker_v2/albert-api/docs/tutorials/IA107.pdf\"\n",
    "if not os.path.exists(file_path):\n",
    "    doc_url = \"https://lafrenchtech.gouv.fr/app/uploads/2024/05/20240521-MFT_CP_FTNext40_120_ENG_V3.pdf\"\n",
    "    wget.download(doc_url, out=file_path)\n"
   ]
  },
  {
   "cell_type": "markdown",
   "id": "RkAjTc20Agr9",
   "metadata": {
    "id": "RkAjTc20Agr9"
   },
   "source": [
    "To begin, we create a collection named tutorial. To do this, we make a GET request to the /v1/models endpoint to retrieve the list of available models and define the embedding model to use.\n",
    "\n",
    "We will also need a language model. We call the /v1/models endpoint to get the list of models. Language models have the type text-generation, and embedding models have the type text-embeddings-inference."
   ]
  },
  {
   "cell_type": "code",
   "execution_count": 19,
   "id": "Q_5YNzmR_JcK",
   "metadata": {
    "colab": {
     "base_uri": "https://localhost:8080/"
    },
    "id": "Q_5YNzmR_JcK",
    "outputId": "01554f0f-3d01-4946-993f-56e657904898"
   },
   "outputs": [
    {
     "name": "stdout",
     "output_type": "stream",
     "text": [
      "language model: albert-small\n",
      "embeddings model: embeddings-small\n"
     ]
    }
   ],
   "source": [
    "language_model, embeddings_model = None, None\n",
    "\n",
    "for model in client.models.list().data:\n",
    "    if model.type == \"text-generation\" and language_model is None:\n",
    "        language_model = model.id\n",
    "    if model.type == \"text-embeddings-inference\" and embeddings_model is None:\n",
    "        embeddings_model = model.id\n",
    "\n",
    "print(f\"language model: {language_model}\\nembeddings model: {embeddings_model}\")"
   ]
  },
  {
   "cell_type": "code",
   "execution_count": 20,
   "id": "a0f0adf2",
   "metadata": {},
   "outputs": [
    {
     "name": "stdout",
     "output_type": "stream",
     "text": [
      "Collection ID: 849\n"
     ]
    }
   ],
   "source": [
    "collection = \"tutorial\"\n",
    "\n",
    "response = session.post(f\"{base_url}/collections\", json={\"name\": collection, \"model\": embeddings_model})\n",
    "response = response.json()\n",
    "collection_id = response[\"id\"]\n",
    "print(f\"Collection ID: {collection_id}\")"
   ]
  },
  {
   "cell_type": "markdown",
   "id": "a9615d41-5ce2-471b-bd6c-90cfb2b78d21",
   "metadata": {
    "id": "a9615d41-5ce2-471b-bd6c-90cfb2b78d21"
   },
   "source": [
    "Finally, we import the document into the collection of our vector database using the POST /v1/files endpoint."
   ]
  },
  {
   "cell_type": "code",
   "execution_count": 21,
   "id": "6852fc7a-0b09-451b-bbc2-939fa96a4d28",
   "metadata": {
    "colab": {
     "base_uri": "https://localhost:8080/"
    },
    "id": "6852fc7a-0b09-451b-bbc2-939fa96a4d28",
    "outputId": "8555033d-d20f-4b0b-8bfa-7fa5c83a299b"
   },
   "outputs": [],
   "source": [
    "files = {\"file\": (os.path.basename(file_path), open(file_path, \"rb\"), \"application/pdf\")}\n",
    "data = {\"request\": '{\"collection\": \"%s\"}' % collection_id}\n",
    "response = session.post(f\"{base_url}/files\", data=data, files=files)\n",
    "assert response.status_code == 201"
   ]
  },
  {
   "cell_type": "markdown",
   "id": "f78ec73c-3e83-4266-a8de-c6a198f317b4",
   "metadata": {
    "id": "f78ec73c-3e83-4266-a8de-c6a198f317b4"
   },
   "source": [
    "We can see that the file we imported is indeed in the collection using the GET /v1/collections endpoint."
   ]
  },
  {
   "cell_type": "code",
   "execution_count": 24,
   "id": "b68dcc19-4dfc-404c-9df6-f4f40ca59c26",
   "metadata": {},
   "outputs": [],
   "source": [
    "response = session.get(f\"{base_url}/collections/{collection_id}\")\n"
   ]
  },
  {
   "cell_type": "code",
   "execution_count": 27,
   "id": "747c9335-637a-4a22-8696-17f2cff4707d",
   "metadata": {},
   "outputs": [
    {
     "name": "stdout",
     "output_type": "stream",
     "text": [
      "Number of files in collection: 1\n"
     ]
    }
   ],
   "source": [
    "print(f\"Number of files in collection: {response.json()['documents']}\")"
   ]
  },
  {
   "cell_type": "markdown",
   "id": "4fd3aed3",
   "metadata": {},
   "source": [
    "Now that we have our collection and our file, we can perform a vector search using the POST /v1/search endpoint. These vector search results will be used to generate a response using the language model."
   ]
  },
  {
   "cell_type": "code",
   "execution_count": 28,
   "id": "2668210f",
   "metadata": {},
   "outputs": [],
   "source": [
    "prompt = \"What is The French Tech Mission ?\""
   ]
  },
  {
   "cell_type": "markdown",
   "id": "789180a5",
   "metadata": {},
   "source": [
    "## Semantic (default method)\n",
    "The semantic method is based on vector similarity (cosine similarity) between the question and the vector representation of the documents."
   ]
  },
  {
   "cell_type": "code",
   "execution_count": 34,
   "id": "30db0c5b",
   "metadata": {},
   "outputs": [
    {
     "name": "stdout",
     "output_type": "stream",
     "text": [
      "The French Tech Mission is a government initiative that supports the French startup ecosystem. It assists the most mature startups through various programs, such as the French Tech Next40/120 program and French Tech 2030 program. \n",
      "\n",
      "The mission is part of the Ministry for the Economy, Finances and Industrial and Digital Sovereignty. It aims to promote French Tech ecosystems nationwide, reduce funding gaps, and support the development of a competitive and efficient market.\n"
     ]
    }
   ],
   "source": [
    "prompt = \"What is The French Tech Mission ?\"\n",
    "data = {\"collections\": [collection_id], \"k\": 6, \"prompt\": prompt, \"method\": \"semantic\"}\n",
    "response = session.post(url=f\"{base_url}/search\", json=data)\n",
    "\n",
    "prompt_template = \"Answer following question using available documents: {prompt}\\n\\nDocuments :\\n\\n{chunks}\"\n",
    "chunks = \"\\n\\n\\n\".join([result[\"chunk\"][\"content\"] for result in response.json()[\"data\"]])\n",
    "sources = set([result[\"chunk\"][\"metadata\"][\"document_name\"] for result in response.json()[\"data\"]])\n",
    "prompt = prompt_template.format(prompt=prompt, chunks=chunks)\n",
    "\n",
    "response = client.chat.completions.create(\n",
    "    messages=[{\"role\": \"user\", \"content\": prompt}],\n",
    "    model=language_model,\n",
    "    stream=False,\n",
    "    n=1,\n",
    ")\n",
    "\n",
    "response = response.choices[0].message.content\n",
    "print(response)"
   ]
  },
  {
   "cell_type": "markdown",
   "id": "7b100b95",
   "metadata": {},
   "source": [
    "## Internet Search\n",
    "\n",
    "You can also add an internet search by specifying *web_search=true* in request body.\n"
   ]
  },
  {
   "cell_type": "code",
   "execution_count": null,
   "id": "f374c1ad-b5ec-4870-a11a-953c7d219f94",
   "metadata": {
    "colab": {
     "base_uri": "https://localhost:8080/"
    },
    "id": "f374c1ad-b5ec-4870-a11a-953c7d219f94",
    "outputId": "64279978-1ae5-4bac-f028-bb0899d83d22"
   },
   "outputs": [],
   "source": [
    "data = {\"collections\": [collection_id], \"web_search\": True, \"k\": 6, \"prompt\": prompt}\n",
    "response = session.post(url=f\"{base_url}/search\", json=data)\n",
    "\n",
    "chunks = \"\\n\\n\\n\".join([result[\"chunk\"][\"content\"] for result in response.json()[\"data\"]])\n",
    "sources = set([result[\"chunk\"][\"metadata\"][\"document_name\"] for result in response.json()[\"data\"]])\n",
    "rag_prompt = prompt_template.format(prompt=prompt, chunks=chunks)\n",
    "\n",
    "response = client.chat.completions.create(\n",
    "    messages=[{\"role\": \"user\", \"content\": rag_prompt}],\n",
    "    model=language_model,\n",
    "    stream=False,\n",
    "    n=1,\n",
    ")\n",
    "\n",
    "response = response.choices[0].message.contenta\n",
    "print(response)"
   ]
  },
  {
   "cell_type": "markdown",
   "id": "857a0492",
   "metadata": {},
   "source": [
    "Internet pages used to generate answer are available."
   ]
  },
  {
   "cell_type": "code",
   "execution_count": 7,
   "id": "8f982989",
   "metadata": {},
   "outputs": [
    {
     "name": "stdout",
     "output_type": "stream",
     "text": [
      "https://www.lefigaro.fr/conjoncture/ulrich-tan-cet-ingenieur-qui-introduit-l-ia-dans-les-administrations-pour-les-rendre-plus-efficaces-20240422\n",
      "https://www.etalab.gouv.fr/datalab/equipe/\n"
     ]
    }
   ],
   "source": [
    "for source in sources:\n",
    "    print(source)"
   ]
  },
  {
   "cell_type": "markdown",
   "id": "2f00610e",
   "metadata": {},
   "source": [
    "## Search with `/chat/completions`\n",
    "\n",
    "`/chat/completions` endpoint also provide RAG feature. To do so, you need to specify `search=True` and `search_args` as below :"
   ]
  },
  {
   "cell_type": "code",
   "execution_count": 47,
   "id": "e2e1368a",
   "metadata": {},
   "outputs": [
    {
     "name": "stdout",
     "output_type": "stream",
     "text": [
      "- Model answer: The French Tech Mission est une mission du gouvernement français, rattachée au Ministère de l'Économie, des Finances et de l'Industrie et de la Souveraineté numérique. Son objectif est de soutenir l'écosystème entrepreneurial français, en particulier les startups les plus matures.\n",
      "\n",
      "La mission offre plusieurs programmes pour accompagner les startups, notamment :\n",
      "\n",
      "* Le programme French Tech Next40/120, qui sélectionne les 120 startups les plus avancées en France, en fonction de critères objectifs de performance économique.\n",
      "* Le programme French Tech 2030, qui vise à soutenir les startups opérant dans des secteurs identifiés comme stratégiques dans le plan \"France 2030\".\n",
      "* Les initiatives French Tech Tremplin et French Tech Rise, qui visent à permettre à des individus sans antécédents entrepreneuriaux de créer leur propre startup dans toute la France.\n",
      "\n",
      "La mission vise également à promouvoir la reconnaissance internationale de l'écosystème français, en particulier des startups les plus avancées. Elle est soutenue par des communautés de French Tech dans le monde entier, notamment 17 capitales et 31 communautés en France, 67 communautés internationales, 6 000 startups impliquées et 1 400 volontaires dans 52 pays.\n",
      "\n",
      "Les objectifs principaux de la mission sont :\n",
      "\n",
      "* Déployer des programmes régionaux pour soutenir le développement des startups dans toute la France.\n",
      "* Soutenir le développement des startups à l'échelle mondiale.\n",
      "* Renforcer la réputation et la leadership de la French Tech à l'échelle internationale.\n",
      "* Attirer du talent et des investissements dans l'écosystème français.\n",
      "\n",
      "La mission est également responsable de l'organisation du programme French Tech Next40/120, qui a pour but de sélectionner les 120 startups les plus avancées en France et de les accompagner dans leur développement. Le programme a été lancé en 2019 et a déjà sélectionné 5 cohortes de startups. La dernière cohortée (2024) est la plus sélective depuis le lancement du programme et compte des startups comme Mirakl, Voodoo et Qonto.\n",
      "\n",
      "- Sources used:\n",
      "\n",
      "The French Tech Mission, part of the Ministry for the Economy, Finances and Industrial and \n",
      "Digital Sovereignty, supports the French startup ecosystem. It assists the most mature startups \n",
      "through  the  French  Tech  Next40/120  program,  as  well  as  startups  operating  in  sectors \n",
      "identified as strategic under the “France 2030” plan with the French Tech 2030 program.  \n",
      "Through initiatives like French Tech Tremplin and French Tech Rise, the French Tech Mission \n",
      "enables  individuals  without  entrepreneurial  backgrounds  to  create  their  own  startups \n",
      "anywhere in France, thereby reducing funding gaps and promoting French Tech ecosystems \n",
      "nationwide.  \n",
      "To support the development of a competitive and efficient market, the French Tech Mission \n",
      "has launched the \"Je Choisis la French Tech\" program, encouraging public administrations and \n",
      "corporations to procure solutions and innovations from French startups.  \n",
      "The French Tech Mission is also supported by French Tech communities worldwide, including \n",
      "17  capitals  and  31  communities  in  France,  67  international  communities,  6,000  involved \n",
      "startups, and 1,400 volunteers in 52 countries.  \n",
      "Its  main  goals  include  deploying  regional  programs,  supporting  startup  development \n",
      "worldwide,  strengthening  French  Tech's  international  reputation  and  leadership,  and \n",
      "attracting talent and investments to the French ecosystem.  \n",
      "More information: https://lafrenchtech.gouv.fr/en/  \n",
      "\n",
      "Press contact \n",
      "\n",
      "French Tech Mission, Press contact: ft.presse@finances.gouv.fr\n",
      "PRESS RELEASE  \n",
      "\n",
      "PARIS, 05/22/2024 \n",
      "\n",
      "The French Tech Mission, Franceʼs government team responsible for supporting the start-up \n",
      "\n",
      "ecosystem growth in France, announces the award winners of the 5th edition of the French \n",
      "Tech Next40/120, a program dedicated to the 120 most advanced French start-ups.  \n",
      "\n",
      "With  the  likes  of  Mirakl  (marketplace  technologies),  Voodoo  (video  games)  and  Qonto \n",
      "(financial services), the 2024 cohort of the French Tech Next40/120 program brings together \n",
      "France’s  120  most  successful  start-ups,  including  28  of  France’s  unicorns  (startups  with \n",
      "valuations  exceeding  $1  billion).  Nearly  90%  of  these  120  start-ups  already  have  an \n",
      "international business presence, notably in the US, Germany, Spain, Italy, and the UK.  \n",
      "\n",
      "In 2019, The French Tech Mission launched the French Tech Next40/120 program to support \n",
      "the  growth  of  the  120  most  advanced  French  startups.  The  selected  startups  make  the  list \n",
      "based  on  objective  criteria  of  economic  performance.  They  are  equally  selected  on  either \n",
      "\n",
      "revenue growth or total equity raised within the last 3 years. This program offers France’s most \n",
      "advanced startups both national and international recognition. \n",
      "\n",
      " \n",
      " \n",
      " \n",
      " \n",
      " \n",
      " \n",
      " \n",
      " \n",
      " \n",
      " \n",
      "\f",
      "The 2024 cohort of the French Tech Next40/120 is the most selective since the inception of \n",
      "the program and embodies the momentum in the French Tech ecoystem.  \n",
      "\n",
      "In total, the 120 companies that make up the French Tech Next40/120 had a combined net \n",
      "revenue of €10 billion in 2023, up by 3% in one year and 31 (out of the 120) companies reported \n",
      "\n",
      "a net revenue exceeding €100 million. \n",
      "\n",
      "Acting as a driving force in France's economic, technological, and industrial landscape, these \n",
      "companies already employ 40,000 workers worldwide with strong international positions.\n",
      "For the first time, candidates had to meet social impact requirements. 100% of them have a \n",
      "full  carbon  footprint  analysis  when  only  10%  of  companies  accurately  measure  their  CO2 \n",
      "emissions globally.1  \n",
      "\n",
      "80% of startups of the French Tech Next40/120 joined the “Parity Pact”2. Launched 2 years \n",
      "ago by the French Tech Mission, the “Parity Pact” aims to address the gender gap in Tech \n",
      "through commitments on concrete actions, such as inclusive recruitment processes or support \n",
      "programs for parents when returning from parental leave.  \n",
      "\n",
      "The French Tech Next40/120 support program  \n",
      "\n",
      "1 BCG study, 04/08/2024: https://www.bcg.com/capabilities/diversity-inclusion/gender-equality \n",
      "2 French Tech Mission: https://lafrenchtech.gouv.fr/en/the-ecosystems-commitments/parity-pact/  \n",
      "\n",
      " \n",
      " \n",
      " \n",
      " \n",
      " \n",
      "\f",
      "With  25,000  startups  and  33  unicorns,  France  has  become  the  most  dynamic  European \n",
      "country for tech startups, attracting the highest level of fundraising within the European Union \n",
      "\n",
      "(€8.3 billion in 2023). The French government is committed to put all its efforts to support this \n",
      "growth, notably though the support of its ecosystem leaders. \n",
      "\n",
      "This  is  why  the  French  Tech  Next40/120  program  was  launched  5  years  ago  to  remove \n",
      "unnecessary institutional obstacles for the 120 most advanced startups through a dedicated \n",
      "\n",
      "startup manager within the French Tech Mission team. \n",
      "\n",
      "They address all pressing issues faced by the startups they handle helping them grow in France \n",
      "\n",
      "and  internationally,  increasing  their  visibility,  connecting  them  with  decision-makers, \n",
      "supporting them on regulatory and legal matters, guiding them on social issues such as gender \n",
      "parity and ecological transition... Most importantly, the program powers a strong community \n",
      "\n",
      "by allowing CEOs to share their experiences and work as one team.  \n",
      "\n",
      "About The French Tech Mission:\n",
      "Back Market, Doctolib, Contentsquare, IAD… The selected tech startups operate across a wide \n",
      "range  of  sectors,  including  GreenTech  and  AgriTech,  InsurTech  and  FinTech,  Retail  and  e-\n",
      "commerce,  Healthcare,  HR  Tech,  Digital  electronics  and  logistics,  cultural  and  creative \n",
      "\n",
      "industries, mobilities and new frontiers bridging quantum and space.  \n",
      "\n",
      "France reinforces its position as a DeepTech powerhouse  \n",
      "\n",
      "DeepTech companies account for 23% of the 120 startups selected in the 5th edition of the \n",
      "French Tech Next40/120 program. These companies are aligned with “France 2030” strategic \n",
      "plan, France's investment plan for emerging technologies in the most strategic sectors. They \n",
      "offer  breakthrough  innovations  in  key  sectors  such  as  Artificial  Intelligence  (Mistral  AI), \n",
      "Quantum  (PASQAL),  Space  (Unseenlabs,  Exotrail),  Healthcare  (Moon  Surgical,  Aqemia, \n",
      "Hoppen) and GreenTech/AgriTech (Umiami, Greenly). \n",
      "\n",
      "French startups continue to expand their international presence \n",
      "\n",
      "88%  of  the  French  Tech  Next40/120  new  class  have  a  physical  presence  or  significant \n",
      "commercial activity abroad in 2024. \n",
      "\n",
      "They are making international expansion a key strand of their strategy, with a marked interest \n",
      "in  the  United  States,  Germany,  Spain,  Italy,  the  United  Kingdom  and  Japan.  They  generate \n",
      "35.6% of their revenues outside of France. \n",
      "\n",
      "Ecovadis’CSR  assessments  are  considered  as  a  widely  recognized  standard,  used  by  major \n",
      "groups including many Fortune500 companies. Exotec, a global warehouse provider, covers \n",
      "100 customer sites worldwide and has sold 1 billion systems since its inception. Mirakl powers \n",
      "over  450  marketplaces  enabling  over  100,000  businesses  to  sell  their  products  worldwide.  \n",
      "\n",
      "Blablacar has reached 80 million carpooling users worldwide. \n",
      "\n",
      " \n",
      " \n",
      " \n",
      " \n",
      "\f",
      "The 2024 class of the French Tech Next40/120 program lead the way in terms of social impact\n"
     ]
    }
   ],
   "source": [
    "response = session.post(\n",
    "    url=f\"{base_url}/chat/completions\",\n",
    "    json={\n",
    "        \"messages\": [{\"role\": \"user\", \"content\": prompt}],\n",
    "        \"model\": language_model,\n",
    "        \"stream\": False,\n",
    "        \"n\": 1,\n",
    "        \"search\": True,\n",
    "        \"search_args\": {\"collections\": [collection_id], \"k\": 6, \"method\": \"semantic\"},\n",
    "    },\n",
    ")\n",
    "response = response.json()\n",
    "\n",
    "sources = [result[\"chunk\"][\"content\"] for result in response[\"search_results\"]]\n",
    "\n",
    "print(f\"\"\"- Model answer: {response['choices'][0]['message']['content']}\n",
    "\n",
    "- Sources used:\n",
    "\n",
    "{'\\n'.join(sources)}\"\"\")"
   ]
  }
 ],
 "metadata": {
  "colab": {
   "provenance": []
  },
  "kernelspec": {
   "display_name": "Python 3",
   "language": "python",
   "name": "python3"
  },
  "language_info": {
   "codemirror_mode": {
    "name": "ipython",
    "version": 3
   },
   "file_extension": ".py",
   "mimetype": "text/x-python",
   "name": "python",
   "nbconvert_exporter": "python",
   "pygments_lexer": "ipython3",
   "version": "3.12.0"
  }
 },
 "nbformat": 4,
 "nbformat_minor": 5
}
