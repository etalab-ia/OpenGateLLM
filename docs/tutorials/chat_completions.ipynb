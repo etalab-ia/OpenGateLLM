{
 "cells": [
  {
   "cell_type": "markdown",
   "id": "81d87e1a-014f-43a2-a0a5-703bd158f0f9",
   "metadata": {},
   "source": [
    "# Chat completions"
   ]
  },
  {
   "cell_type": "code",
   "execution_count": null,
   "id": "0df030ba",
   "metadata": {},
   "outputs": [],
   "source": [
    "%pip install -qU openai"
   ]
  },
  {
   "cell_type": "code",
   "execution_count": 3,
   "id": "08a18feb-e58b-4fb3-809e-045a81bec9dd",
   "metadata": {},
   "outputs": [],
   "source": [
    "# OpenAI client configuration\n",
    "import os\n",
    "from openai import OpenAI\n",
    "\n",
    "base_url = \"https://albert.api.etalab.gouv.fr/v1\"\n",
    "api_key = os.getenv(\"ALBERT_API_KEY\")\n",
    "\n",
    "\n",
    "client = OpenAI(base_url=base_url, api_key=api_key)"
   ]
  },
  {
   "cell_type": "code",
   "execution_count": 5,
   "id": "3f700cab-e53f-4a4c-8cbc-be9bdf96a7d7",
   "metadata": {},
   "outputs": [
    {
     "name": "stdout",
     "output_type": "stream",
     "text": [
      "Hello! How can I assist you today? Let's have a friendly and engaging conversation. 😊 Here are a few things we could do:\n",
      "\n",
      "* Chat on a topic you're interested in\n",
      "* Play a text-based game, like trivia or word association\n",
      "* Share interesting facts or jokes\n",
      "* Provide explanations on various subjects\n",
      "\n",
      "What would you like to do?\n"
     ]
    }
   ],
   "source": [
    "# unstreamed chat\n",
    "data = {\n",
    "    \"model\": \"albert-large\",\n",
    "    \"messages\": [{\"role\": \"user\", \"content\": \"Hi Albert !\"}],\n",
    "    \"stream\": False,\n",
    "    \"n\": 1,\n",
    "}\n",
    "\n",
    "response = client.chat.completions.create(**data)\n",
    "print(response.choices[0].message.content)"
   ]
  },
  {
   "cell_type": "code",
   "execution_count": 7,
   "id": "1f7753b8",
   "metadata": {},
   "outputs": [
    {
     "name": "stdout",
     "output_type": "stream",
     "text": [
      "\n",
      "Hello\n",
      "!\n",
      " I\n",
      "'m\n",
      " functioning\n",
      " as\n",
      " intended\n",
      ",\n",
      " thank\n",
      " you\n",
      ".\n",
      " How\n",
      " about\n",
      " you\n",
      "?\n",
      " How\n",
      "'s\n",
      " your\n",
      " day\n",
      " going\n",
      "?\n",
      " Let\n",
      "'s\n",
      " chat\n",
      " about\n",
      " anything\n",
      " you\n",
      "'d\n",
      " like\n",
      ".\n",
      "\n",
      "\n",
      " 😊\n"
     ]
    }
   ],
   "source": [
    "# streamed chat\n",
    "data = {\n",
    "    \"model\": \"albert-large\",\n",
    "    \"messages\": [{\"role\": \"user\", \"content\": \"What's up Albert ?\"}],\n",
    "    \"stream\": True,\n",
    "    \"n\": 1,\n",
    "}\n",
    "\n",
    "response = client.chat.completions.create(**data)\n",
    "for chunk in response:\n",
    "    if chunk.choices[0].finish_reason is not None:\n",
    "        break\n",
    "    print(chunk.choices[0].delta.content, end=\"\\n\", flush=True)"
   ]
  },
  {
   "cell_type": "code",
   "execution_count": null,
   "id": "f9c26d88-281e-4046-8fbf-d50ec816d130",
   "metadata": {},
   "outputs": [],
   "source": []
  }
 ],
 "metadata": {
  "kernelspec": {
   "display_name": "Python 3 (ipykernel)",
   "language": "python",
   "name": "python3"
  },
  "language_info": {
   "codemirror_mode": {
    "name": "ipython",
    "version": 3
   },
   "file_extension": ".py",
   "mimetype": "text/x-python",
   "name": "python",
   "nbconvert_exporter": "python",
   "pygments_lexer": "ipython3",
   "version": "3.12.0"
  }
 },
 "nbformat": 4,
 "nbformat_minor": 5
}
