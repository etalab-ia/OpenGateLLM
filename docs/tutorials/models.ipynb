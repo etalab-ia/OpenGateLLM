{
 "cells": [
  {
   "cell_type": "markdown",
   "id": "57fc5450-a36f-48c0-a53c-9e3698c3267a",
   "metadata": {},
   "source": [
    "# Models"
   ]
  },
  {
   "cell_type": "code",
   "execution_count": null,
   "id": "afa7fd12",
   "metadata": {},
   "outputs": [],
   "source": [
    "! pip install -qU openai"
   ]
  },
  {
   "cell_type": "code",
   "execution_count": 14,
   "id": "8e5bf034-950e-4a6b-a5bc-4abca3b54959",
   "metadata": {},
   "outputs": [],
   "source": [
    "# OpenAI client configuration\n",
    "import os\n",
    "from openai import OpenAI\n",
    "\n",
    "base_url = \"https://albert.api.etalab.gouv.fr/v1\"\n",
    "api_key = os.getenv(\"ALBERT_API_KEY\")\n",
    "\n",
    "client = OpenAI(base_url=base_url, api_key=api_key)"
   ]
  },
  {
   "cell_type": "code",
   "execution_count": 15,
   "id": "1aa563f6-e734-4452-a023-7a423612e7eb",
   "metadata": {},
   "outputs": [
    {
     "name": "stdout",
     "output_type": "stream",
     "text": [
      "albert-small\n",
      "embeddings-small\n",
      "audio-large\n",
      "AgentPublic/llama3-instruct-guillaumetell\n",
      "AgentPublic/albert-spp-8b\n",
      "rerank-small\n",
      "albert-large\n",
      "neuralmagic/Meta-Llama-3.1-70B-Instruct-FP8\n"
     ]
    }
   ],
   "source": [
    "# Get all models information\n",
    "models = client.models.list()\n",
    "\n",
    "for model in models.data:\n",
    "    print(model.id)"
   ]
  },
  {
   "cell_type": "code",
   "execution_count": 17,
   "id": "a5339237-dbf6-488d-ae26-98e52eccbd64",
   "metadata": {},
   "outputs": [
    {
     "name": "stdout",
     "output_type": "stream",
     "text": [
      "albert-small\n"
     ]
    }
   ],
   "source": [
    "# Get only one model information\n",
    "model = \"albert-small\"\n",
    "model = client.models.retrieve(model=model)\n",
    "\n",
    "print(model.id)"
   ]
  }
 ],
 "metadata": {
  "kernelspec": {
   "display_name": "Python 3 (ipykernel)",
   "language": "python",
   "name": "python3"
  },
  "language_info": {
   "codemirror_mode": {
    "name": "ipython",
    "version": 3
   },
   "file_extension": ".py",
   "mimetype": "text/x-python",
   "name": "python",
   "nbconvert_exporter": "python",
   "pygments_lexer": "ipython3",
   "version": "3.12.0"
  }
 },
 "nbformat": 4,
 "nbformat_minor": 5
}
