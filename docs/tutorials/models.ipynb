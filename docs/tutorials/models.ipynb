{
 "cells": [
  {
   "cell_type": "markdown",
   "id": "57fc5450-a36f-48c0-a53c-9e3698c3267a",
   "metadata": {},
   "source": [
    "# Models"
   ]
  },
  {
   "cell_type": "code",
   "execution_count": 1,
   "id": "8e5bf034-950e-4a6b-a5bc-4abca3b54959",
   "metadata": {},
   "outputs": [],
   "source": [
    "# OpenAI client configuration\n",
    "import os\n",
    "\n",
    "from openai import OpenAI\n",
    "\n",
    "base_url = \"https://albert.api.etalab.gouv.fr/v1\"\n",
    "api_key = os.getenv(\"API_KEY\")\n",
    "\n",
    "client = OpenAI(base_url=base_url, api_key=api_key)"
   ]
  },
  {
   "cell_type": "code",
   "execution_count": 2,
   "id": "1aa563f6-e734-4452-a023-7a423612e7eb",
   "metadata": {},
   "outputs": [
    {
     "name": "stdout",
     "output_type": "stream",
     "text": [
      "meta-llama/Meta-Llama-3.1-8B-Instruct\n",
      "mistralai/Mixtral-8x7B-Instruct-v0.1\n",
      "AgentPublic/llama3-instruct-8b\n",
      "BAAI/bge-m3\n",
      "AgentPublic/llama3-instruct-guillaumetell\n",
      "intfloat/multilingual-e5-large\n",
      "google/gemma-2-9b-it\n"
     ]
    }
   ],
   "source": [
    "# Get all models information\n",
    "models = client.models.list()\n",
    "\n",
    "for model in models.data:\n",
    "    print(model.id)"
   ]
  },
  {
   "cell_type": "code",
   "execution_count": 7,
   "id": "a5339237-dbf6-488d-ae26-98e52eccbd64",
   "metadata": {},
   "outputs": [
    {
     "name": "stdout",
     "output_type": "stream",
     "text": [
      "AgentPublic/llama3-instruct-8b\n"
     ]
    }
   ],
   "source": [
    "# Get only one model information\n",
    "import urllib\n",
    "\n",
    "model = \"AgentPublic/llama3-instruct-8b\"\n",
    "\n",
    "# if your model ID contains \"/\" characters, you have to encode the string to be parse like an URL\n",
    "encoded_model = urllib.parse.quote(urllib.parse.quote(model, safe=\"\"), safe=\"\")\n",
    "model = client.models.retrieve(model=encoded_model)\n",
    "\n",
    "print(model.id)"
   ]
  }
 ],
 "metadata": {
  "kernelspec": {
   "display_name": "Python 3 (ipykernel)",
   "language": "python",
   "name": "python3"
  },
  "language_info": {
   "codemirror_mode": {
    "name": "ipython",
    "version": 3
   },
   "file_extension": ".py",
   "mimetype": "text/x-python",
   "name": "python",
   "nbconvert_exporter": "python",
   "pygments_lexer": "ipython3",
   "version": "3.12.3"
  }
 },
 "nbformat": 4,
 "nbformat_minor": 5
}
