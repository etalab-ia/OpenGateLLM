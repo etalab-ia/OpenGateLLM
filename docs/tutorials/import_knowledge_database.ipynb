{
 "cells": [
  {
   "cell_type": "markdown",
   "id": "f6f333a0-7450-4136-b8cc-416e07426279",
   "metadata": {
    "id": "f6f333a0-7450-4136-b8cc-416e07426279"
   },
   "source": [
    "# Interroger votre base de connaissances"
   ]
  },
  {
   "cell_type": "code",
   "execution_count": null,
   "id": "5f9ca9bf",
   "metadata": {
    "colab": {
     "base_uri": "https://localhost:8080/"
    },
    "id": "5f9ca9bf",
    "outputId": "4112b46b-4271-4696-cf31-393e9e7ff8b3"
   },
   "outputs": [],
   "source": [
    "%pip install -qU wget openai"
   ]
  },
  {
   "cell_type": "code",
   "execution_count": 22,
   "id": "665f1dc5",
   "metadata": {},
   "outputs": [],
   "source": [
    "import json\n",
    "import os\n",
    "import re\n",
    "import requests\n",
    "\n",
    "import wget\n",
    "from openai import OpenAI"
   ]
  },
  {
   "cell_type": "markdown",
   "id": "daadba81-54dd-48ba-b6f0-fc8307e822c3",
   "metadata": {
    "id": "daadba81-54dd-48ba-b6f0-fc8307e822c3"
   },
   "source": [
    "Commencez par télécharger le document qui va vous servir de base de connaissance. Celle-ci doit être au format JSON. \n",
    "\n",
    "Nous prenons ici comme exemple le dataset des expériences d'usagers provenant du site de la Transformation Publique."
   ]
  },
  {
   "cell_type": "code",
   "execution_count": 60,
   "id": "263f3f23",
   "metadata": {},
   "outputs": [],
   "source": [
    "doc_url = \"https://opendata.plus.transformation.gouv.fr/api/explore/v2.1/catalog/datasets/export-expa-c-riences/exports/json\"\n",
    "file_path = \"my_database.json\""
   ]
  },
  {
   "cell_type": "code",
   "execution_count": 82,
   "id": "e80daa99-3416-4b81-a8aa-4fb7427bbe6c",
   "metadata": {
    "colab": {
     "base_uri": "https://localhost:8080/",
     "height": 35
    },
    "id": "e80daa99-3416-4b81-a8aa-4fb7427bbe6c",
    "outputId": "abf16516-2ef9-40c3-dcad-74b6f9aa42e6"
   },
   "outputs": [],
   "source": [
    "if not os.path.exists(file_path):\n",
    "    wget.download(doc_url, out=file_path)"
   ]
  },
  {
   "cell_type": "code",
   "execution_count": 83,
   "id": "bd4f7f6c",
   "metadata": {},
   "outputs": [
    {
     "name": "stdout",
     "output_type": "stream",
     "text": [
      "Exemple de fichier : {'id_experience': 280027, 'etat_experience': 'A traiter', 'statut_de_l_experience': 'Expérience en attente de réponse', 'ecrit_le': '2019-06-20', 'date_de_publication': '2019-06-21', 'pseudonyme_usager': 'FLORIAN H.', 'titre': 'ANAH - programme habiter mieux', 'description': 'Nous avons déposé un dossier complet à l\\'Anah en date du 18 décembre 2018 mais depuis cette date, il n\\' y a pas encore eu de \"commission\" pour valider notre dossier. Fin mars, on nous avait annoncé une commission pour le 16 juin et hier, nous avons appris qu\\'elle a été, une énième fois, reportée... sans avoir plus d\\'infos.Pourquoi une telle situation ?', 'poste_comme': 'La personne concernée', 'ressenti_usager': 'Négatif', 'code_insee_departement_usager': None, 'intitule_departement_usager': None, 'intitule_region_usager': None, 'code_insee_region_usager': None, 'pays': 'France', 'id_typologie_1': 'vAjIgQajQN', 'intitule_typologie_1': 'ANAH', 'code_postal_typologie_1': None, 'pays_typologie_1': None, 'canaux_typologie_1': None, 'id_typologie_2': 'vAjIgQajQN', 'intitule_typologie_2': 'ANAH', 'code_postal_typologie_2': None, 'pays_typologie_2': None, 'canaux_typologie_2': None, 'id_typologie_3': None, 'intitule_typologie_3': None, 'code_postal_typologie_3': None, 'pays_typologie_3': None, 'canaux_typologie_3': None, 'hors_structure': 'Oui', 'id_structure_1': 'sxZshFsE9R', 'intitule_structure_1': 'Hors-structures', 'statut_reponse_structure_1': 'Réponse dépubliée', 'reponse_structure_1': \"Bonjour Florian H., et merci de votre témoignage.A ce jour, l'Agence nationale de l'habitat n'a pas encore la possibilité de vous répondre sur voxusagers.gouv.fr.\\xa0En effet, voxusagers.gouv.fr est actuellement en expérimentation dans quelques services publics uniquement.Nous ne manquerons pas néanmoins de transmettre votre histoire à\\xa0l'AnahEn vous remerciant,Bien cordialement\", 'evaluation_utile_reponse_structure_1_par_visiteurs': 0, 'evaluation_inutile_reponse_structure_1_par_visiteurs': 0, 'evaluation_reponse_structure_1_par_auteur': None, 'id_structure_2': None, 'intitule_structure_2': None, 'statut_reponse_structure_2': None, 'reponse_structure_2': None, 'evaluation_utile_reponse_structure_2_par_visiteurs': None, 'evaluation_inutile_reponse_structure_2_par_visiteurs': None, 'evaluation_reponse_structure_2_par_auteur': None, 'id_structure_3': None, 'intitule_structure_3': None, 'statut_reponse_structure_3': None, 'reponse_structure_3': None, 'evaluation_utile_reponse_structure_3_par_visiteurs': None, 'evaluation_inutile_reponse_structure_3_par_visiteurs': None, 'evaluation_reponse_structure_3_par_auteur': None, 'cle_de_tracking': None, 'accessibilite': 'Négatif', 'information_explication': 'Négatif', 'relation': None, 'reactivite': 'Négatif', 'simplicite_complexite': None, 'experiences_similaires': 1, 'amelioration_de_service_a_considerer': 'Non', 'action': None, 'date_action_realisee': None, 'date_action_engagee': None, 'tags_metiers': None, 'audio': 'N', 'top_ia_structure_1': 'N', 'aide_ia_proposee_reponse_structure_1': 'N', 'taux_de_similarite_reponse_ia_structure_1': None, 'vote_de_l_agent_reponse_ia_structure_1': None, 'top_ia_structure_2': None, 'aide_ia_proposee_reponse_structure_2': None, 'taux_de_similarite_reponse_ia_structure_2': None, 'vote_de_l_agent_reponse_ia_structure_2': None, 'top_ia_structure_3': None, 'aide_ia_proposee_reponse_structure_3': None, 'taux_de_similarite_reponse_ia_structure_3': None, 'vote_de_l_agent_reponse_ia_structure_3': None}\n",
      "Poids du fichier : 337982 MB\n"
     ]
    }
   ],
   "source": [
    "file = json.load(open(file_path))\n",
    "\n",
    "print(\"Exemple de fichier :\", file[0])\n",
    "print(\"Poids du fichier :\", os.path.getsize(file_path) // 1024, \"MB\")"
   ]
  },
  {
   "cell_type": "markdown",
   "id": "f320fe62",
   "metadata": {},
   "source": [
    "Au regard du dataset, il pose 2 problèmes : \n",
    "- sa structure ne respect par ce qui est définit dans la documentation de l'API\n",
    "- son poids est supérieur à 512MB"
   ]
  },
  {
   "cell_type": "code",
   "execution_count": 84,
   "id": "088d8dde",
   "metadata": {},
   "outputs": [],
   "source": [
    "base_url = \"https://albert.api.etalab.gouv.fr/v1\"\n",
    "api_key = \"YOUR_API_KEY\"\n",
    "\n",
    "client = OpenAI(base_url=base_url, api_key=api_key)\n",
    "\n",
    "session = requests.session()\n",
    "session.headers = {\"Authorization\": f\"Bearer {api_key}\"}"
   ]
  },
  {
   "cell_type": "markdown",
   "id": "419fc7b3",
   "metadata": {},
   "source": [
    "\n",
    "Créez une collection nommée `tutorial`."
   ]
  },
  {
   "cell_type": "code",
   "execution_count": 85,
   "id": "cd69dc3e",
   "metadata": {},
   "outputs": [
    {
     "name": "stdout",
     "output_type": "stream",
     "text": [
      "Embeddings model: BAAI/bge-m3\n"
     ]
    }
   ],
   "source": [
    "response = session.get(f\"{base_url}/models\")\n",
    "response = response.json()\n",
    "model = [model for model in response[\"data\"] if model[\"type\"] == \"text-embeddings-inference\"][0][\"id\"]\n",
    "\n",
    "print(f\"Embeddings model: {model}\")"
   ]
  },
  {
   "cell_type": "code",
   "execution_count": 114,
   "id": "cc15f7b0",
   "metadata": {},
   "outputs": [
    {
     "name": "stdout",
     "output_type": "stream",
     "text": [
      "Collection ID: 2136465a-a4a3-41f8-a7ba-019576f7f671\n"
     ]
    }
   ],
   "source": [
    "collection = \"tutorial\"\n",
    "\n",
    "response = session.post(f\"{base_url}/collections\", json={\"name\": collection, \"model\": model})\n",
    "response = response.json()\n",
    "collection_id = response[\"id\"]\n",
    "print(f\"Collection ID: {collection_id}\")\n"
   ]
  },
  {
   "cell_type": "code",
   "execution_count": 115,
   "id": "db52eb69",
   "metadata": {},
   "outputs": [
    {
     "name": "stdout",
     "output_type": "stream",
     "text": [
      "{'detail': 'File size limit exceeded'}\n"
     ]
    }
   ],
   "source": [
    "files = {\"file\": (os.path.basename(file_path), open(file_path, \"rb\"), \"application/pdf\")}\n",
    "data = {'request': '{\"collection\": \"%s\"}' % collection_id}\n",
    "response = session.post(f\"{base_url}/files\", data=data, files=files)\n",
    "print(response.json())"
   ]
  },
  {
   "cell_type": "code",
   "execution_count": 116,
   "id": "f6c0cd0f",
   "metadata": {},
   "outputs": [],
   "source": [
    "formated_file = list()\n",
    "for document in file[:10]:\n",
    "    titre = document.get(\"titre\", \"\")\n",
    "    description = document.get(\"description\", \"\")\n",
    "    intitule = document.get(\"intitule_typologie_1\", \"\")\n",
    "    reponse = document.get(\"reponse_structure_1\", \"\")\n",
    "\n",
    "    text = re.sub(r\"([.,;:!?])([^\\s\\d])\", r\"\\1 \\2\", description) # Add space after punctuation\n",
    "    text = re.sub(r\"[\\xa0\\u00a0\\r]\", \" \", text) # Remove special characters\n",
    "    text = re.sub(r\"&nbsp;\", \" \", text)\n",
    "    text = re.sub(r\"\\,(?!\\s)\", \". \", text, count=1) # Add a space after the first \",\" if not already followed by a space.\n",
    "\n",
    "    formated_file.append({\n",
    "        \"title\": titre,\n",
    "        \"text\": f\"{titre} {text} {intitule}\",\n",
    "        \"metadata\": {\n",
    "            \"question\": text,\n",
    "            \"answer\": reponse,\n",
    "            \"titre\": titre,\n",
    "            \"intitule\": intitule\n",
    "        }\n",
    "    })\n",
    "\n",
    "formated_file_path = \"my_database_formated.json\"\n",
    "json.dump(formated_file, open(formated_file_path, \"w\"))"
   ]
  },
  {
   "cell_type": "code",
   "execution_count": 117,
   "id": "9fae46c2",
   "metadata": {},
   "outputs": [
    {
     "data": {
      "text/plain": [
       "0.019721031188964844"
      ]
     },
     "execution_count": 117,
     "metadata": {},
     "output_type": "execute_result"
    }
   ],
   "source": [
    "os.path.getsize(formated_file_path) / 1024 / 1024"
   ]
  },
  {
   "cell_type": "code",
   "execution_count": 118,
   "id": "0d43a870",
   "metadata": {},
   "outputs": [
    {
     "name": "stdout",
     "output_type": "stream",
     "text": [
      "{'id': 'b79ed0b4-0cf0-4b70-bcdf-20d7e0843067'}\n"
     ]
    }
   ],
   "source": [
    "files = {\"file\": (os.path.basename(formated_file_path), open(formated_file_path, \"rb\"), \"application/pdf\")}\n",
    "data = {'request': '{\"collection\": \"%s\"}' % collection_id}\n",
    "response = session.post(f\"{base_url}/files\", data=data, files=files)\n",
    "print(response.json())"
   ]
  },
  {
   "cell_type": "code",
   "execution_count": 19,
   "id": "4be4aa09",
   "metadata": {},
   "outputs": [],
   "source": [
    "batch = 32\n",
    "os.makedirs(\"my_database\", exist_ok=True)\n",
    "for i in range(0, len(file), batch):\n",
    "    batch_file = file[i:i+batch]\n",
    "\n",
    "    documents = []\n",
    "    for document in batch_file:\n",
    "        titre = document.get(\"titre\", \"\")\n",
    "        description = document.get(\"description\", \"\")\n",
    "        intitule = document.get(\"intitule_typologie_1\", \"\")\n",
    "        reponse = document.get(\"reponse_structure_1\", \"\")\n",
    "\n",
    "        text= re.sub(r\"([.,;:!?])([^\\s\\d])\", r\"\\1 \\2\", description) # Add space after punctuation\n",
    "        text = re.sub(r\"[\\xa0\\u00a0\\r]\", \" \", text) # Remove special characters\n",
    "        text = re.sub(r\"&nbsp;\", \" \", text)\n",
    "        text = re.sub(r\"\\,(?!\\s)\", \". \", text, count=1) # Add a space after the first \",\" if not already followed by a space.\n",
    "\n",
    "        documents.append({\n",
    "            \"text\": f\"{titre} {text} {intitule}\",\n",
    "            \"metadata\": {\n",
    "                \"question\": text,\n",
    "                \"answer\": reponse,\n",
    "                \"titre\": titre,\n",
    "                \"intitule\": intitule\n",
    "            }\n",
    "        })\n",
    "\n",
    "    batch_file_path = os.path.join(\"my_database\", f\"my_database_{i}.json\")\n",
    "    json.dump(documents, open(batch_file_path, \"w\"))\n",
    "    assert os.path.getsize(batch_file_path) < 51200000, \"Le fichier ne doit pas dépasser 512MB\"\n",
    "\n",
    "    files = {\"files\": (os.path.basename(batch_file_path), open(batch_file_path, \"rb\"), \"application/pdf\")}\n",
    "    params = {\"collection\": collection_id}\n",
    "    response = session.post(f\"{base_url}/files\", params=params, files=files)\n",
    "    response.json()"
   ]
  },
  {
   "cell_type": "code",
   "execution_count": null,
   "id": "4acdafc5",
   "metadata": {},
   "outputs": [],
   "source": [
    "titre = document.get(\"titre\", \"\")\n",
    "description = document.get(\"description\", \"\")\n",
    "intitule = document.get(\"intitule_typologie_1\", \"\")\n",
    "reponse = document.get(\"reponse_structure_1\", \"\")\n",
    "\n",
    "# add space after punctuation\n",
    "description = re.sub(r\"([.,;:!?])([^\\s\\d])\", r\"\\1 \\2\", description)"
   ]
  },
  {
   "cell_type": "code",
   "execution_count": 6,
   "id": "662a6235",
   "metadata": {},
   "outputs": [
    {
     "data": {
      "text/plain": [
       "80615"
      ]
     },
     "execution_count": 6,
     "metadata": {},
     "output_type": "execute_result"
    }
   ],
   "source": [
    "len(file)"
   ]
  },
  {
   "cell_type": "markdown",
   "id": "80cf5b47-3ae4-4d86-9012-f2f8379d8f0b",
   "metadata": {
    "id": "80cf5b47-3ae4-4d86-9012-f2f8379d8f0b"
   },
   "source": [
    "Puis instancier la connexion à l'API Albert."
   ]
  },
  {
   "cell_type": "code",
   "execution_count": 2,
   "id": "fe2bdd4b",
   "metadata": {},
   "outputs": [
    {
     "ename": "NameError",
     "evalue": "name 'json' is not defined",
     "output_type": "error",
     "traceback": [
      "\u001b[0;31m---------------------------------------------------------------------------\u001b[0m",
      "\u001b[0;31mNameError\u001b[0m                                 Traceback (most recent call last)",
      "Cell \u001b[0;32mIn[2], line 1\u001b[0m\n\u001b[0;32m----> 1\u001b[0m file \u001b[38;5;241m=\u001b[39m \u001b[43mjson\u001b[49m\u001b[38;5;241m.\u001b[39mload(\u001b[38;5;28mopen\u001b[39m(file_path))\n",
      "\u001b[0;31mNameError\u001b[0m: name 'json' is not defined"
     ]
    }
   ],
   "source": [
    "file = json.load(open(file_path))"
   ]
  },
  {
   "cell_type": "markdown",
   "id": "RkAjTc20Agr9",
   "metadata": {
    "id": "RkAjTc20Agr9"
   },
   "source": [
    "Vous aurez besoin pour la suite d'un modèle de langage ainsi qu'un modèle d'embeddings (pour le RAG). Pour cela vous pouvez appelez le endpoint `/v1/models` pour obtenir la liste des modèles. Les modèles de langage ont le type *text-generation* et les modèles d'embeddings le type *text-embeddings-inference*."
   ]
  },
  {
   "cell_type": "code",
   "execution_count": null,
   "id": "Q_5YNzmR_JcK",
   "metadata": {
    "colab": {
     "base_uri": "https://localhost:8080/"
    },
    "id": "Q_5YNzmR_JcK",
    "outputId": "01554f0f-3d01-4946-993f-56e657904898"
   },
   "outputs": [],
   "source": [
    "language_model, embeddings_model = None, None\n",
    "\n",
    "for model in client.models.list().data:\n",
    "    if model.type == \"text-generation\" and language_model is None:\n",
    "        language_model = model.id\n",
    "    if model.type == \"text-embeddings-inference\" and embeddings_model is None:\n",
    "        embeddings_model = model.id\n",
    "\n",
    "print(f\"language model: {language_model}\\nembeddings model: {embeddings_model}\")"
   ]
  },
  {
   "cell_type": "markdown",
   "id": "a9615d41-5ce2-471b-bd6c-90cfb2b78d21",
   "metadata": {
    "id": "a9615d41-5ce2-471b-bd6c-90cfb2b78d21"
   },
   "source": [
    "Enfin pour vous importer le document dans une collection de notre base vectorielle à l'aide du endpoint POST `/v1/files`.\n",
    "\n",
    "Vous devez spécifier le modèle d'embeddings qui sera utilisé pour vectoriser votre document. Vous pouvez trouver la liste des modèles avec le endpoint `/v1/models`. Les modèles d'embeddings sont indiqués avec le type _feature-extraction_.\n",
    "\n",
    "Le endpoint POST `/v1/files` doit retourner un status _success_."
   ]
  },
  {
   "cell_type": "code",
   "execution_count": null,
   "id": "5ac03e4c",
   "metadata": {
    "colab": {
     "base_uri": "https://localhost:8080/"
    },
    "id": "5ac03e4c",
    "outputId": "6e1c29d9-7d36-4e6c-d7d5-a79305d539cf"
   },
   "outputs": [],
   "source": [
    "# Remove previous files\n",
    "collection = \"tutorial\"\n",
    "response = session.delete(f\"{base_url}/files/{collection}\")\n",
    "response.status_code"
   ]
  },
  {
   "cell_type": "code",
   "execution_count": null,
   "id": "6852fc7a-0b09-451b-bbc2-939fa96a4d28",
   "metadata": {
    "colab": {
     "base_uri": "https://localhost:8080/"
    },
    "id": "6852fc7a-0b09-451b-bbc2-939fa96a4d28",
    "outputId": "8555033d-d20f-4b0b-8bfa-7fa5c83a299b"
   },
   "outputs": [],
   "source": [
    "# Upload a file\n",
    "model = \"intfloat/multilingual-e5-large\"\n",
    "params = {\"collection\": collection, \"embeddings_model\": embeddings_model}\n",
    "\n",
    "files = {\"files\": (os.path.basename(file_path), open(file_path, \"rb\"), \"application/pdf\")}\n",
    "response = session.post(f\"{base_url}/files\", params=params, files=files)\n",
    "\n",
    "response.json()"
   ]
  },
  {
   "cell_type": "markdown",
   "id": "f78ec73c-3e83-4266-a8de-c6a198f317b4",
   "metadata": {
    "id": "f78ec73c-3e83-4266-a8de-c6a198f317b4"
   },
   "source": [
    "Vous pouvez observer les fichiers que vous avez importer dans une collection à l'aide du endpoint GET `/v1/files.`"
   ]
  },
  {
   "cell_type": "code",
   "execution_count": null,
   "id": "bd6d6140-5c91-4c3e-9350-b6c8550ab145",
   "metadata": {
    "colab": {
     "base_uri": "https://localhost:8080/"
    },
    "id": "bd6d6140-5c91-4c3e-9350-b6c8550ab145",
    "outputId": "0ddea4bb-889e-4ebc-a912-7a2e461ea987"
   },
   "outputs": [],
   "source": [
    "# Retrieve the file ID for RAG\n",
    "response = session.get(f\"{base_url}/files/{collection}\")\n",
    "response.json()\n",
    "file_id = response.json()[\"data\"][0][\"id\"]\n",
    "print(file_id)"
   ]
  },
  {
   "cell_type": "code",
   "execution_count": null,
   "id": "c2ce73cc",
   "metadata": {},
   "outputs": [],
   "source": [
    "prompt = \"Qui est Ulrich Tan ?\"\n",
    "data = {\"collections\": [collection], \"model\": embeddings_model, \"k\": 6, \"prompt\": prompt}\n",
    "response = session.post(url=f\"{base_url}/search\", json=data, headers={\"Authorization\": f\"Bearer {api_key}\"})\n",
    "\n",
    "prompt_template = \"Réponds à la question suivante en te basant sur les documents ci-dessous : {prompt}\\n\\nDocuments :\\n\\n{chunks}\"\n",
    "chunks = \"\\n\\n\\n\".join([result[\"chunk\"][\"content\"] for result in response.json()[\"data\"]])\n",
    "prompt = prompt_template.format(prompt=prompt, chunks=chunks)\n",
    "\n",
    "response = client.chat.completions.create(\n",
    "    messages=[{\"role\": \"user\", \"content\": prompt}],\n",
    "    model=language_model,\n",
    "    stream=False,\n",
    "    n=1,\n",
    ")\n",
    "\n",
    "response = response.choices[0].message.content\n",
    "print(response)"
   ]
  },
  {
   "cell_type": "markdown",
   "id": "8a122cb8",
   "metadata": {},
   "source": [
    "Vous pouvez également faire ajouter une recherche sur internet en spécifiant \"internet\" dans la liste des collections."
   ]
  },
  {
   "cell_type": "code",
   "execution_count": null,
   "id": "f374c1ad-b5ec-4870-a11a-953c7d219f94",
   "metadata": {
    "colab": {
     "base_uri": "https://localhost:8080/"
    },
    "id": "f374c1ad-b5ec-4870-a11a-953c7d219f94",
    "outputId": "64279978-1ae5-4bac-f028-bb0899d83d22"
   },
   "outputs": [],
   "source": [
    "prompt = \"Qui est Ulrich Tan ?\"\n",
    "collections = [collection, \"internet\"]\n",
    "data = {\"collections\": collections, \"model\": embeddings_model, \"k\": 6, \"prompt\": prompt}\n",
    "response = session.post(url=f\"{base_url}/search\", json=data, headers={\"Authorization\": f\"Bearer {api_key}\"})\n",
    "\n",
    "prompt_template = \"Réponds à la question suivante en te basant sur les documents ci-dessous : {prompt}\\n\\nDocuments :\\n\\n{chunks}\"\n",
    "chunks = \"\\n\\n\\n\".join([result[\"chunk\"][\"content\"] for result in response.json()[\"data\"]])\n",
    "prompt = prompt_template.format(prompt=prompt, chunks=chunks)\n",
    "\n",
    "response = client.chat.completions.create(\n",
    "    messages=[{\"role\": \"user\", \"content\": prompt}],\n",
    "    model=language_model,\n",
    "    stream=False,\n",
    "    n=1,\n",
    ")\n",
    "\n",
    "response = response.choices[0].message.content\n",
    "print(response)"
   ]
  }
 ],
 "metadata": {
  "colab": {
   "provenance": []
  },
  "kernelspec": {
   "display_name": "Python 3 (ipykernel)",
   "language": "python",
   "name": "python3"
  },
  "language_info": {
   "codemirror_mode": {
    "name": "ipython",
    "version": 3
   },
   "file_extension": ".py",
   "mimetype": "text/x-python",
   "name": "python",
   "nbconvert_exporter": "python",
   "pygments_lexer": "ipython3",
   "version": "3.12.3"
  }
 },
 "nbformat": 4,
 "nbformat_minor": 5
}
