{
 "cells": [
  {
   "cell_type": "markdown",
   "id": "f6f333a0-7450-4136-b8cc-416e07426279",
   "metadata": {
    "id": "f6f333a0-7450-4136-b8cc-416e07426279"
   },
   "source": [
    "# Interroger votre base de connaissances"
   ]
  },
  {
   "cell_type": "code",
   "execution_count": null,
   "id": "5f9ca9bf",
   "metadata": {
    "colab": {
     "base_uri": "https://localhost:8080/"
    },
    "id": "5f9ca9bf",
    "outputId": "4112b46b-4271-4696-cf31-393e9e7ff8b3"
   },
   "outputs": [],
   "source": [
    "%pip install -qU wget"
   ]
  },
  {
   "cell_type": "code",
   "execution_count": 18,
   "id": "665f1dc5",
   "metadata": {},
   "outputs": [],
   "source": [
    "import json\n",
    "import os\n",
    "import re\n",
    "import requests\n",
    "\n",
    "import wget"
   ]
  },
  {
   "cell_type": "code",
   "execution_count": null,
   "id": "50a7bec6",
   "metadata": {},
   "outputs": [],
   "source": [
    "base_url = \"https://albert.api.etalab.gouv.fr/v1\"\n",
    "api_key = \"YOUR_API_KEY\"\n",
    "\n",
    "session = requests.session()\n",
    "session.headers = {\"Authorization\": f\"Bearer {api_key}\"}"
   ]
  },
  {
   "cell_type": "markdown",
   "id": "daadba81-54dd-48ba-b6f0-fc8307e822c3",
   "metadata": {
    "id": "daadba81-54dd-48ba-b6f0-fc8307e822c3"
   },
   "source": [
    "Commencez par télécharger le document qui va vous servir de base de connaissance. Nous prenons ici comme exemple le dataset des expériences d'usagers provenant du site de la Transformation Publique."
   ]
  },
  {
   "cell_type": "code",
   "execution_count": 19,
   "id": "263f3f23",
   "metadata": {},
   "outputs": [],
   "source": [
    "doc_url = \"https://opendata.plus.transformation.gouv.fr/api/explore/v2.1/catalog/datasets/export-expa-c-riences/exports/json\"\n",
    "file_path = \"my_database.json\"\n",
    "\n",
    "if not os.path.exists(file_path):\n",
    "    wget.download(doc_url, out=file_path)"
   ]
  },
  {
   "cell_type": "markdown",
   "id": "7b41e1a7",
   "metadata": {},
   "source": [
    "Le format du fichier doit être JSON, ici nous n'avons pas besoin de le convertir. En revanche, il est possible que le fichier ne respecte pas la structure définit dans la documentation de l'API.\n",
    "\n",
    "De plus le fichier ne doit pas dépasser 20MB, il est donc nécessaire de le découper en plusieurs fichiers."
   ]
  },
  {
   "cell_type": "code",
   "execution_count": 20,
   "id": "bd4f7f6c",
   "metadata": {},
   "outputs": [
    {
     "name": "stdout",
     "output_type": "stream",
     "text": [
      "Exemple de fichier : {'id_experience': 280027, 'etat_experience': 'A traiter', 'statut_de_l_experience': 'Expérience en attente de réponse', 'ecrit_le': '2019-06-20', 'date_de_publication': '2019-06-21', 'pseudonyme_usager': 'FLORIAN H.', 'titre': 'ANAH - programme habiter mieux', 'description': 'Nous avons déposé un dossier complet à l\\'Anah en date du 18 décembre 2018 mais depuis cette date, il n\\' y a pas encore eu de \"commission\" pour valider notre dossier. Fin mars, on nous avait annoncé une commission pour le 16 juin et hier, nous avons appris qu\\'elle a été, une énième fois, reportée... sans avoir plus d\\'infos.Pourquoi une telle situation ?', 'poste_comme': 'La personne concernée', 'ressenti_usager': 'Négatif', 'code_insee_departement_usager': None, 'intitule_departement_usager': None, 'intitule_region_usager': None, 'code_insee_region_usager': None, 'pays': 'France', 'id_typologie_1': 'vAjIgQajQN', 'intitule_typologie_1': 'ANAH', 'code_postal_typologie_1': None, 'pays_typologie_1': None, 'canaux_typologie_1': None, 'id_typologie_2': 'vAjIgQajQN', 'intitule_typologie_2': 'ANAH', 'code_postal_typologie_2': None, 'pays_typologie_2': None, 'canaux_typologie_2': None, 'id_typologie_3': None, 'intitule_typologie_3': None, 'code_postal_typologie_3': None, 'pays_typologie_3': None, 'canaux_typologie_3': None, 'hors_structure': 'Oui', 'id_structure_1': 'sxZshFsE9R', 'intitule_structure_1': 'Hors-structures', 'statut_reponse_structure_1': 'Réponse dépubliée', 'reponse_structure_1': \"Bonjour Florian H., et merci de votre témoignage.A ce jour, l'Agence nationale de l'habitat n'a pas encore la possibilité de vous répondre sur voxusagers.gouv.fr.\\xa0En effet, voxusagers.gouv.fr est actuellement en expérimentation dans quelques services publics uniquement.Nous ne manquerons pas néanmoins de transmettre votre histoire à\\xa0l'AnahEn vous remerciant,Bien cordialement\", 'evaluation_utile_reponse_structure_1_par_visiteurs': 0, 'evaluation_inutile_reponse_structure_1_par_visiteurs': 0, 'evaluation_reponse_structure_1_par_auteur': None, 'id_structure_2': None, 'intitule_structure_2': None, 'statut_reponse_structure_2': None, 'reponse_structure_2': None, 'evaluation_utile_reponse_structure_2_par_visiteurs': None, 'evaluation_inutile_reponse_structure_2_par_visiteurs': None, 'evaluation_reponse_structure_2_par_auteur': None, 'id_structure_3': None, 'intitule_structure_3': None, 'statut_reponse_structure_3': None, 'reponse_structure_3': None, 'evaluation_utile_reponse_structure_3_par_visiteurs': None, 'evaluation_inutile_reponse_structure_3_par_visiteurs': None, 'evaluation_reponse_structure_3_par_auteur': None, 'cle_de_tracking': None, 'accessibilite': 'Négatif', 'information_explication': 'Négatif', 'relation': None, 'reactivite': 'Négatif', 'simplicite_complexite': None, 'experiences_similaires': 1, 'amelioration_de_service_a_considerer': 'Non', 'action': None, 'date_action_realisee': None, 'date_action_engagee': None, 'tags_metiers': None, 'audio': 'N', 'top_ia_structure_1': 'N', 'aide_ia_proposee_reponse_structure_1': 'N', 'taux_de_similarite_reponse_ia_structure_1': None, 'vote_de_l_agent_reponse_ia_structure_1': None, 'top_ia_structure_2': None, 'aide_ia_proposee_reponse_structure_2': None, 'taux_de_similarite_reponse_ia_structure_2': None, 'vote_de_l_agent_reponse_ia_structure_2': None, 'top_ia_structure_3': None, 'aide_ia_proposee_reponse_structure_3': None, 'taux_de_similarite_reponse_ia_structure_3': None, 'vote_de_l_agent_reponse_ia_structure_3': None}\n",
      "Poids du fichier : 337982 MB\n"
     ]
    }
   ],
   "source": [
    "file = json.load(open(file_path))\n",
    "\n",
    "print(\"Exemple de fichier :\", file[0])\n",
    "print(\"Poids du fichier :\", os.path.getsize(file_path) // 1024, \"MB\")"
   ]
  },
  {
   "cell_type": "markdown",
   "id": "f320fe62",
   "metadata": {},
   "source": [
    "Commençons par changer la structure du fichier. Celle-ci doit être une liste de dictionnaire avec comme clés `title`, `text` et `metadata` (cette dernière est optionnelle).\n",
    "\n",
    "Nous profitons également de cette étape pour nettoyer le texte d'artefacts et le rendre plus proche de ce que nous voulons obtenir.\n",
    "\n",
    "Pour l'exemple, nous allons importer que les 120 premiers documents.\n"
   ]
  },
  {
   "cell_type": "code",
   "execution_count": 21,
   "id": "90c5ec7a",
   "metadata": {},
   "outputs": [
    {
     "name": "stdout",
     "output_type": "stream",
     "text": [
      "Exemple de fichier : {'title': 'ANAH - programme habiter mieux', 'text': 'ANAH - programme habiter mieux Nous avons déposé un dossier complet à l\\'Anah en date du 18 décembre 2018 mais depuis cette date, il n\\' y a pas encore eu de \"commission\" pour valider notre dossier. Fin mars, on nous avait annoncé une commission pour le 16 juin et hier, nous avons appris qu\\'elle a été, une énième fois, reportée. .. sans avoir plus d\\'infos. Pourquoi une telle situation ? ANAH', 'metadata': {'question': 'Nous avons déposé un dossier complet à l\\'Anah en date du 18 décembre 2018 mais depuis cette date, il n\\' y a pas encore eu de \"commission\" pour valider notre dossier. Fin mars, on nous avait annoncé une commission pour le 16 juin et hier, nous avons appris qu\\'elle a été, une énième fois, reportée. .. sans avoir plus d\\'infos. Pourquoi une telle situation ?', 'answer': \"Bonjour Florian H., et merci de votre témoignage.A ce jour, l'Agence nationale de l'habitat n'a pas encore la possibilité de vous répondre sur voxusagers.gouv.fr.\\xa0En effet, voxusagers.gouv.fr est actuellement en expérimentation dans quelques services publics uniquement.Nous ne manquerons pas néanmoins de transmettre votre histoire à\\xa0l'AnahEn vous remerciant,Bien cordialement\", 'titre': 'ANAH - programme habiter mieux', 'intitule': 'ANAH'}}\n"
     ]
    }
   ],
   "source": [
    "formated_file = list()\n",
    "sample_size = 120\n",
    "for document in file[:sample_size]:\n",
    "    titre = document.get(\"titre\", \"\")\n",
    "    description = document.get(\"description\", \"\")\n",
    "    intitule = document.get(\"intitule_typologie_1\", \"\")\n",
    "    reponse = document.get(\"reponse_structure_1\", \"\")\n",
    "\n",
    "    text = re.sub(r\"([.,;:!?])([^\\s\\d])\", r\"\\1 \\2\", description)  # Add space after punctuation\n",
    "    text = re.sub(r\"[\\xa0\\u00a0\\r]\", \" \", text)  # Remove special characters\n",
    "    text = re.sub(r\"&nbsp;\", \" \", text)\n",
    "    text = re.sub(r\"\\,(?!\\s)\", \". \", text, count=1)  # Add a space after the first \",\" if not already followed by a space.\n",
    "\n",
    "    formated_file.append(\n",
    "        {\n",
    "            \"title\": titre,\n",
    "            \"text\": f\"{titre} {text} {intitule}\",\n",
    "            \"metadata\": {\"question\": text, \"answer\": reponse, \"titre\": titre, \"intitule\": intitule},\n",
    "        }\n",
    "    )\n",
    "\n",
    "print(f\"Exemple de fichier : {formated_file[0]}\")"
   ]
  },
  {
   "cell_type": "markdown",
   "id": "419fc7b3",
   "metadata": {},
   "source": [
    "\n",
    "Nous pouvons maintenant importer le fichier dans la base vectorielle d'Albert à l'aide de l'API.\n",
    "\n",
    "Pour commencer, nous créons une collection nommée `tutorial`. Pour cela nous effectuons une requête GET sur l'endpoint `/v1/models` afin d'obtenir la liste des modèles disponibles et définissons le modèle d'embeddings à utiliser."
   ]
  },
  {
   "cell_type": "code",
   "execution_count": 24,
   "id": "cd69dc3e",
   "metadata": {},
   "outputs": [
    {
     "name": "stdout",
     "output_type": "stream",
     "text": [
      "Embeddings model: BAAI/bge-m3\n"
     ]
    }
   ],
   "source": [
    "response = session.get(f\"{base_url}/models\")\n",
    "response = response.json()\n",
    "model = [model for model in response[\"data\"] if model[\"type\"] == \"text-embeddings-inference\"][0][\"id\"]\n",
    "\n",
    "print(f\"Embeddings model: {model}\")"
   ]
  },
  {
   "cell_type": "code",
   "execution_count": 25,
   "id": "cc15f7b0",
   "metadata": {},
   "outputs": [
    {
     "name": "stdout",
     "output_type": "stream",
     "text": [
      "Collection ID: 3320eea7-2074-409d-a3e4-797444e161ee\n"
     ]
    }
   ],
   "source": [
    "collection = \"tutorial\"\n",
    "\n",
    "response = session.post(f\"{base_url}/collections\", json={\"name\": collection, \"model\": model})\n",
    "response = response.json()\n",
    "collection_id = response[\"id\"]\n",
    "print(f\"Collection ID: {collection_id}\")"
   ]
  },
  {
   "cell_type": "markdown",
   "id": "49a84d2a",
   "metadata": {},
   "source": [
    "Nous pouvons maintenant importer le fichier dans la base vectorielle d'Albert à l'aide de l'API.\n"
   ]
  },
  {
   "cell_type": "code",
   "execution_count": 26,
   "id": "db52eb69",
   "metadata": {},
   "outputs": [
    {
     "name": "stdout",
     "output_type": "stream",
     "text": [
      "{'detail': 'File size limit exceeded'}\n"
     ]
    }
   ],
   "source": [
    "files = {\"file\": (os.path.basename(file_path), open(file_path, \"rb\"), \"application/pdf\")}\n",
    "data = {\"request\": '{\"collection\": \"%s\"}' % collection_id}\n",
    "response = session.post(f\"{base_url}/files\", data=data, files=files)\n",
    "print(response.json())"
   ]
  },
  {
   "cell_type": "markdown",
   "id": "092c9bb7",
   "metadata": {},
   "source": [
    "La taille du fichier dépasse 20MB, il est donc nécessaire de le découper en plusieurs fichiers."
   ]
  },
  {
   "cell_type": "code",
   "execution_count": 27,
   "id": "f6c0cd0f",
   "metadata": {},
   "outputs": [],
   "source": [
    "batch = 64\n",
    "for i in range(0, len(formated_file), batch):\n",
    "    batch_file = formated_file[i : i + batch]\n",
    "\n",
    "    batch_file_path = f\"tmp_{i}.json\"\n",
    "    json.dump(batch_file, open(batch_file_path, \"w\"))\n",
    "    assert os.path.getsize(batch_file_path) < 20 * 1024 * 1024\n",
    "\n",
    "    files = {\"file\": (os.path.basename(batch_file_path), open(batch_file_path, \"rb\"), \"application/json\")}\n",
    "    data = {\"request\": '{\"collection\": \"%s\"}' % collection_id}\n",
    "    response = session.post(f\"{base_url}/files\", data=data, files=files)\n",
    "    assert response.status_code == 201, \"Erreur lors de l'importation du fichier\"\n",
    "    os.remove(batch_file_path)"
   ]
  },
  {
   "cell_type": "markdown",
   "id": "RkAjTc20Agr9",
   "metadata": {
    "id": "RkAjTc20Agr9"
   },
   "source": [
    "Nous pouvons maintenant vérifier que les fichiers ont bien été importés à l'aide du endpoint GET `/v1/documents`."
   ]
  },
  {
   "cell_type": "code",
   "execution_count": 32,
   "id": "7fb27b941602401d91542211134fc71a",
   "metadata": {},
   "outputs": [
    {
     "name": "stdout",
     "output_type": "stream",
     "text": [
      "120\n"
     ]
    }
   ],
   "source": [
    "response = session.get(f\"{base_url}/documents/{collection_id}\")\n",
    "response.json()\n",
    "files = response.json()[\"data\"]\n",
    "print(len(files))"
   ]
  },
  {
   "cell_type": "markdown",
   "id": "ca0e8eaf",
   "metadata": {},
   "source": [
    "Enfin nous pouvons supprimer les fichiers importés.\n"
   ]
  },
  {
   "cell_type": "code",
   "execution_count": 33,
   "id": "5ac03e4c",
   "metadata": {
    "colab": {
     "base_uri": "https://localhost:8080/"
    },
    "id": "5ac03e4c",
    "outputId": "6e1c29d9-7d36-4e6c-d7d5-a79305d539cf"
   },
   "outputs": [],
   "source": [
    "response = session.delete(f\"{base_url}/collections/{collection_id}\")"
   ]
  }
 ],
 "metadata": {
  "colab": {
   "provenance": []
  },
  "kernelspec": {
   "display_name": "Python 3 (ipykernel)",
   "language": "python",
   "name": "python3"
  },
  "language_info": {
   "codemirror_mode": {
    "name": "ipython",
    "version": 3
   },
   "file_extension": ".py",
   "mimetype": "text/x-python",
   "name": "python",
   "nbconvert_exporter": "python",
   "pygments_lexer": "ipython3",
   "version": "3.12.7"
  }
 },
 "nbformat": 4,
 "nbformat_minor": 5
}
